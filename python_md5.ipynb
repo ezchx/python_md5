{
 "cells": [
  {
   "cell_type": "markdown",
   "metadata": {},
   "source": [
    "# Python MD5"
   ]
  },
  {
   "cell_type": "markdown",
   "metadata": {},
   "source": [
    "## Set input array"
   ]
  },
  {
   "cell_type": "code",
   "execution_count": 1,
   "metadata": {
    "collapsed": true
   },
   "outputs": [],
   "source": [
    "message = \"Mary had a little lamb.\""
   ]
  },
  {
   "cell_type": "code",
   "execution_count": 2,
   "metadata": {
    "collapsed": true
   },
   "outputs": [],
   "source": [
    "# big endian to little endian function\n",
    "import struct\n",
    "\n",
    "def swap32(i):\n",
    "    return struct.unpack(\"<I\", struct.pack(\">I\", i))[0]"
   ]
  },
  {
   "cell_type": "code",
   "execution_count": 3,
   "metadata": {},
   "outputs": [
    {
     "name": "stdout",
     "output_type": "stream",
     "text": [
      "[77, 97, 114, 121, 32, 104, 97, 100, 32, 97, 32, 108, 105, 116, 116, 108, 101, 32, 108, 97, 109, 98, 46]\n"
     ]
    }
   ],
   "source": [
    "# get dec values for each character\n",
    "message_dec = []\n",
    "\n",
    "for i in range(len(message)):\n",
    "    message_dec.append(ord(message[i]))\n",
    "    \n",
    "print(message_dec)"
   ]
  },
  {
   "cell_type": "code",
   "execution_count": 4,
   "metadata": {},
   "outputs": [
    {
     "name": "stdout",
     "output_type": "stream",
     "text": [
      "[77, 97, 114, 121, 32, 104, 97, 100, 32, 97, 32, 108, 105, 116, 116, 108, 101, 32, 108, 97, 109, 98, 46, 128]\n"
     ]
    }
   ],
   "source": [
    "# add check byte\n",
    "message_dec.append(128)\n",
    "\n",
    "print(message_dec)"
   ]
  },
  {
   "cell_type": "code",
   "execution_count": 5,
   "metadata": {},
   "outputs": [
    {
     "name": "stdout",
     "output_type": "stream",
     "text": [
      "[77, 97, 114, 121, 32, 104, 97, 100, 32, 97, 32, 108, 105, 116, 116, 108, 101, 32, 108, 97, 109, 98, 46, 128, 0, 0, 0, 0, 0, 0, 0, 0, 0, 0, 0, 0, 0, 0, 0, 0, 0, 0, 0, 0, 0, 0, 0, 0, 0, 0, 0, 0, 0, 0, 0, 0]\n"
     ]
    }
   ],
   "source": [
    "# add zeros up to 56 bytes\n",
    "padding = 56 - len(message_dec)\n",
    "\n",
    "for i in range(padding):\n",
    "    message_dec.append(0)\n",
    "    \n",
    "print(message_dec)"
   ]
  },
  {
   "cell_type": "code",
   "execution_count": 6,
   "metadata": {},
   "outputs": [
    {
     "name": "stdout",
     "output_type": "stream",
     "text": [
      "[77, 97, 114, 121, 32, 104, 97, 100, 32, 97, 32, 108, 105, 116, 116, 108, 101, 32, 108, 97, 109, 98, 46, 128, 0, 0, 0, 0, 0, 0, 0, 0, 0, 0, 0, 0, 0, 0, 0, 0, 0, 0, 0, 0, 0, 0, 0, 0, 0, 0, 0, 0, 0, 0, 0, 0, 184]\n"
     ]
    }
   ],
   "source": [
    "# add message length in bits\n",
    "message_dec.append(len(message)*8)\n",
    "\n",
    "print(message_dec)"
   ]
  },
  {
   "cell_type": "code",
   "execution_count": 7,
   "metadata": {},
   "outputs": [
    {
     "name": "stdout",
     "output_type": "stream",
     "text": [
      "[77, 97, 114, 121, 32, 104, 97, 100, 32, 97, 32, 108, 105, 116, 116, 108, 101, 32, 108, 97, 109, 98, 46, 128, 0, 0, 0, 0, 0, 0, 0, 0, 0, 0, 0, 0, 0, 0, 0, 0, 0, 0, 0, 0, 0, 0, 0, 0, 0, 0, 0, 0, 0, 0, 0, 0, 184, 0, 0, 0, 0, 0, 0, 0]\n"
     ]
    }
   ],
   "source": [
    "# add zeros up to 64 bytes\n",
    "padding = 64 - len(message_dec)\n",
    "\n",
    "for i in range(padding):\n",
    "    message_dec.append(0)\n",
    "    \n",
    "print(message_dec)"
   ]
  },
  {
   "cell_type": "code",
   "execution_count": 8,
   "metadata": {},
   "outputs": [
    {
     "name": "stdout",
     "output_type": "stream",
     "text": [
      "[2037539149, 1684105248, 1814061344, 1819571305, 1634476133, 2150523501, 0, 0, 0, 0, 0, 0, 0, 0, 184, 0]\n"
     ]
    }
   ],
   "source": [
    "# consolidate 64 x 8 bit array into 16 x 32 bit array\n",
    "counter = 0\n",
    "M = []\n",
    "\n",
    "for i in range(16):\n",
    "    char1 = message_dec[counter]\n",
    "    char2 = message_dec[counter + 1]\n",
    "    char3 = message_dec[counter + 2]\n",
    "    char4 = message_dec[counter + 3]\n",
    "    chunk = (char1 << 24) + (char2 << 16) + (char3 << 8) + char4\n",
    "    chunk = swap32(chunk)\n",
    "    M.append(chunk)\n",
    "    counter +=4\n",
    "    \n",
    "print(M)"
   ]
  },
  {
   "cell_type": "markdown",
   "metadata": {},
   "source": [
    "## Set variables"
   ]
  },
  {
   "cell_type": "code",
   "execution_count": 9,
   "metadata": {
    "collapsed": true
   },
   "outputs": [],
   "source": [
    "# set offset values\n",
    "s = []\n",
    "offset = [[7,12,17,22], [5,9,14,20], [4,11,16,23], [6,10,15,21]]\n",
    "\n",
    "for i in range(4):\n",
    "    for j in range(4):\n",
    "        s.extend(offset[i])"
   ]
  },
  {
   "cell_type": "code",
   "execution_count": 10,
   "metadata": {
    "collapsed": true
   },
   "outputs": [],
   "source": [
    "# set k values\n",
    "import math\n",
    "K = []\n",
    "\n",
    "for i in range(64):\n",
    "    K.append(abs(int(math.sin(i + 1)*(2**32))))"
   ]
  },
  {
   "cell_type": "code",
   "execution_count": 11,
   "metadata": {
    "collapsed": true
   },
   "outputs": [],
   "source": [
    "# set initial register values\n",
    "a0 = 0x67452301 # dec = 1732584193\n",
    "b0 = 0xefcdab89 # dec = 4023233417\n",
    "c0 = 0x98badcfe # dec = 2562383102\n",
    "d0 = 0x10325476 # dec = 271733878"
   ]
  },
  {
   "cell_type": "markdown",
   "metadata": {},
   "source": [
    "## Main MD5 function"
   ]
  },
  {
   "cell_type": "code",
   "execution_count": 12,
   "metadata": {},
   "outputs": [
    {
     "data": {
      "text/plain": [
       "'ca964b1677d5476ea11eed1e1837c342'"
      ]
     },
     "execution_count": 12,
     "metadata": {},
     "output_type": "execute_result"
    }
   ],
   "source": [
    "A = a0\n",
    "B = b0\n",
    "C = c0\n",
    "D = d0\n",
    "\n",
    "x = [0,0,0,0]\n",
    "\n",
    "for i in range(64):\n",
    "    \n",
    "    # roll A,B,C,D\n",
    "    x[i % 4] = A\n",
    "    x[(i+1) % 4] = B\n",
    "    x[(i+2) % 4] = C\n",
    "    x[(i+3) % 4] = D\n",
    "    \n",
    "    if (i < 16):\n",
    "        F = (x[1] & x[2]) | ((~x[1]) & x[3])\n",
    "        g = i % 16\n",
    "    elif (i < 32):\n",
    "        F = (x[3] & x[1]) | ((~x[3]) & x[2])\n",
    "        g = (5*i + 1) % 16\n",
    "    elif (i < 48):\n",
    "        F = x[1] ^ x[2] ^ x[3]\n",
    "        g = (3*i + 5) % 16\n",
    "    else:\n",
    "        F = x[2] ^ (x[1] | (~x[3]))\n",
    "        g = (7*i) % 16\n",
    "    \n",
    "    F += x[0] + K[i] + M[g]\n",
    "    F = F % 2**32\n",
    "    \n",
    "    # shift your bits\n",
    "    F = (F << s[i]) % 2**32 | (F >> (32-s[i]) % 2**32)\n",
    "    \n",
    "    x[0] = (x[1] + F) % 2**32\n",
    "    \n",
    "    if (i%4 == 0): A = x[0]\n",
    "    if (i%4 == 1): D = x[0]\n",
    "    if (i%4 == 2): C = x[0]\n",
    "    if (i%4 == 3): B = x[0]\n",
    "\n",
    "# consolidate final register values\n",
    "AA = (a0 + A) % 2**32\n",
    "BB = (b0 + B) % 2**32\n",
    "CC = (c0 + C) % 2**32\n",
    "DD = (d0 + D) % 2**32\n",
    "\n",
    "MD5 = format(swap32(AA), '08x') + format(swap32(BB), '08x') + format(swap32(CC), '08x') + format(swap32(DD), '08x')\n",
    "\n",
    "print(MD5)"
   ]
  },
  {
   "cell_type": "markdown",
   "metadata": {
    "collapsed": true
   },
   "source": [
    "## Compare to built-in Python MD5 library"
   ]
  },
  {
   "cell_type": "code",
   "execution_count": 13,
   "metadata": {},
   "outputs": [
    {
     "name": "stdout",
     "output_type": "stream",
     "text": [
      "ca964b1677d5476ea11eed1e1837c342\n",
      "ca964b1677d5476ea11eed1e1837c342\n",
      "Success!\n"
     ]
    }
   ],
   "source": [
    "import hashlib\n",
    "\n",
    "m = hashlib.md5()\n",
    "m.update(message.encode('utf-8'))\n",
    "MD5_python = m.hexdigest()\n",
    "\n",
    "print(MD5)\n",
    "print(MD5_python)\n",
    "\n",
    "if (MD5 == MD5_python):\n",
    "    print(\"Success!\")\n",
    "else:\n",
    "    print(\"Failure!\")"
   ]
  },
  {
   "cell_type": "code",
   "execution_count": null,
   "metadata": {
    "collapsed": true
   },
   "outputs": [],
   "source": []
  },
  {
   "cell_type": "code",
   "execution_count": null,
   "metadata": {
    "collapsed": true
   },
   "outputs": [],
   "source": []
  }
 ],
 "metadata": {
  "kernelspec": {
   "display_name": "Python 3",
   "language": "python",
   "name": "python3"
  },
  "language_info": {
   "codemirror_mode": {
    "name": "ipython",
    "version": 3
   },
   "file_extension": ".py",
   "mimetype": "text/x-python",
   "name": "python",
   "nbconvert_exporter": "python",
   "pygments_lexer": "ipython3",
   "version": "3.6.2"
  }
 },
 "nbformat": 4,
 "nbformat_minor": 2
}
